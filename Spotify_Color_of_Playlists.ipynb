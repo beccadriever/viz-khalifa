{
 "cells": [
  {
   "cell_type": "markdown",
   "metadata": {},
   "source": [
    "# The Color of Music\n",
    "\n",
    "\n",
    "This module is part of a project to compare three friends' music tastes. It allows the user to utilize the Spotify API to visualize music as a color based on three characteristics: acousticness, danceability, and energy. Within this notebook, we have visualized the color of songs in playlists with various genres. The genres included are rock, today's top hits, folk, country, hip hop, Christmas, and rap.\n"
   ]
  },
  {
   "cell_type": "code",
   "execution_count": 18,
   "metadata": {},
   "outputs": [],
   "source": [
    "import spotipy as sp\n",
    "import pandas as pd\n",
    "from spotipy.oauth2 import SpotifyClientCredentials\n",
    "from spotipy import util\n",
    "import json\n",
    "from pandas.io.json import json_normalize\n",
    "import seaborn as sns\n",
    "import numpy as np\n",
    "import matplotlib.pyplot as plt"
   ]
  },
  {
   "cell_type": "markdown",
   "metadata": {},
   "source": [
    "# Spotify API setup and scraping\n",
    "\n",
    "This section connects to the Spotify API and scrapes the data for each genre playlist. In order to do so you must have created a Spotify client ID and client secret through their developer website ([linked here](https://developer.spotify.com/dashboard/)). Once you've created these, go to project settings and add 'http://localhost/' into the 'Redirect URIs' section. You must also have your Spotify username (if you sign into Spotify using Facebook you can use [this link](https://community.spotify.com/t5/Accounts/How-do-i-find-my-username-when-using-Facebook-login/td-p/859795) to find your actual Spotify username). \n",
    "\n",
    "IMPORTANT: In order to scrape the data for each of the playlists, you MUST be following the playlists (i.e. have them added to your own Spotify library). "
   ]
  },
  {
   "cell_type": "code",
   "execution_count": 19,
   "metadata": {},
   "outputs": [],
   "source": [
    "# insert created client id and client secret\n",
    "client_id = 'MY_CLIENT_ID'\n",
    "client_secret = 'MY_CLIENT_SECRET'\n",
    "\n",
    "# insert your name and Spotify username\n",
    "name='MY_NAME'\n",
    "username='MY_SPOTIFY_USERNAME'\n",
    "\n",
    "# define scope for user access\n",
    "scope='playlist-read-private playlist-read-collaborative user-read-recently-played ' + \\\n",
    "'user-follow-read user-read-currently-playing user-library-read user-top-read'\n",
    "\n",
    "# access the API with your new credentials\n",
    "client_credentials_manager = SpotifyClientCredentials(client_id=client_id, client_secret=client_secret)\n",
    "sp1 = sp.Spotify(client_credentials_manager=client_credentials_manager) # spotify object to access API\n",
    "\n",
    "# this will prompt you to accept the terms\n",
    "# accept the terms, copy the link of the page it redirects you to, and paste that link in the input box that pops up\n",
    "token = util.prompt_for_user_token(username,scope,client_id=client_id,client_secret=client_secret,redirect_uri='http://localhost/')\n",
    "sp2 = sp.Spotify(auth=token)\n",
    "\n"
   ]
  },
  {
   "cell_type": "code",
   "execution_count": 20,
   "metadata": {},
   "outputs": [
    {
     "data": {
      "text/plain": [
       "{'display_name': 'Jacqui Ngo',\n",
       " 'external_urls': {'spotify': 'https://open.spotify.com/user/jacquingo'},\n",
       " 'followers': {'href': None, 'total': 16},\n",
       " 'href': 'https://api.spotify.com/v1/users/jacquingo',\n",
       " 'id': 'jacquingo',\n",
       " 'images': [{'height': None,\n",
       "   'url': 'https://profile-images.scdn.co/images/userprofile/default/245ce4e5f857025f59563ddc49143bbbdfc89e7e',\n",
       "   'width': None}],\n",
       " 'type': 'user',\n",
       " 'uri': 'spotify:user:jacquingo'}"
      ]
     },
     "execution_count": 20,
     "metadata": {},
     "output_type": "execute_result"
    }
   ],
   "source": [
    "# check to see if connection worked\n",
    "# you should see your own Spotify information\n",
    "sp2.current_user()"
   ]
  },
  {
   "cell_type": "code",
   "execution_count": 21,
   "metadata": {},
   "outputs": [],
   "source": [
    "# get the song information from various playlists \n",
    "# you MUST have these playlists favorited or followed in Spotify\n",
    "user_playlist_json = sp2.user_playlists(username)\n",
    "user_playlists = pd.DataFrame(json_normalize(user_playlist_json['items']))\n",
    "\n",
    "# create dataframes for each playlist\n",
    "rock = user_playlists[(user_playlists['name'] == 'Rock Classics') ]\n",
    "hits = user_playlists[(user_playlists['name']==\"Today's Top Hits\")]\n",
    "folk = user_playlists[(user_playlists['name']=='Fresh Folk')]\n",
    "country = user_playlists[(user_playlists['name']=='Country Gold')]\n",
    "hip = user_playlists[(user_playlists['name']=='Hip-Hop Classics: Def Jam')]\n",
    "christmas = user_playlists[(user_playlists['name']=='Christmas Classics')]\n",
    "rap = user_playlists[(user_playlists['name']=='RapCaviar')]\n",
    "\n",
    "\n"
   ]
  },
  {
   "cell_type": "code",
   "execution_count": 22,
   "metadata": {},
   "outputs": [],
   "source": [
    "# get all of the song info for each track in the Rock Classics playlist\n",
    "rock_songs = json_normalize(sp2.user_playlist_tracks(username, playlist_id=rock['id'].tolist()[0], fields=None, \n",
    "                                                     limit=100, offset=0, market=None)['items'])\n",
    "audio_rock = pd.DataFrame(json_normalize(sp2.audio_features(tracks=rock_songs['track.uri'].tolist())))\n",
    "\n",
    "# merge audio features dataframe with song information dataframe\n",
    "songs_with_audio_rock = rock_songs.merge(audio_rock,how='left',left_on='track.uri',right_on='uri')\n"
   ]
  },
  {
   "cell_type": "code",
   "execution_count": 23,
   "metadata": {},
   "outputs": [],
   "source": [
    "# get all of the track info for each track in the Today's Top Hits playlist\n",
    "hits_songs = json_normalize(sp2.user_playlist_tracks(username, playlist_id=hits['id'].tolist()[0], fields=None, \n",
    "                                                     limit=100, offset=0, market=None)['items'])\n",
    "audio_hits = pd.DataFrame(json_normalize(sp2.audio_features(tracks=hits_songs[~hits_songs[\"track.uri\"].str.contains('episode')]['track.uri'].tolist())))\n",
    "\n",
    "# merge audio features dataframe with song information dataframe\n",
    "songs_with_audio_hits = hits_songs.merge(audio_hits,how='left',left_on='track.uri',right_on='uri')\n"
   ]
  },
  {
   "cell_type": "code",
   "execution_count": 24,
   "metadata": {},
   "outputs": [],
   "source": [
    "# get all of the track info for each track in the Fresh Folk playlist\n",
    "folk_songs = json_normalize(sp2.user_playlist_tracks(username, playlist_id=folk['id'].tolist()[0], fields=None, \n",
    "                                                     limit=100, offset=0, market=None)['items'])\n",
    "audio_folk = pd.DataFrame(json_normalize(sp2.audio_features(tracks=folk_songs['track.uri'].tolist())))\n",
    "\n",
    "# merge audio features dataframe with song information dataframe\n",
    "songs_with_audio_folk = folk_songs.merge(audio_folk,how='left',left_on='track.uri',right_on='uri')\n"
   ]
  },
  {
   "cell_type": "code",
   "execution_count": 25,
   "metadata": {},
   "outputs": [],
   "source": [
    "# get all of the track info for each track in the Country Gold playlist\n",
    "country_songs = json_normalize(sp2.user_playlist_tracks(username, playlist_id=country['id'].tolist()[0], fields=None, \n",
    "                                                        limit=100, offset=0, market=None)['items'])\n",
    "audio_country = pd.DataFrame(json_normalize(sp2.audio_features(tracks=country_songs['track.uri'].tolist())))\n",
    "\n",
    "# merge audio features dataframe with song information dataframe\n",
    "songs_with_audio_country = country_songs.merge(audio_country,how='left',left_on='track.uri',right_on='uri')\n"
   ]
  },
  {
   "cell_type": "code",
   "execution_count": 26,
   "metadata": {},
   "outputs": [],
   "source": [
    "# get all of the track info for each track in the Hip-Hop Classics: Def Jam playlist\n",
    "hip_songs = json_normalize(sp2.user_playlist_tracks(username, playlist_id=hip['id'].tolist()[0], fields=None, \n",
    "                                                    limit=100, offset=0, market=None)['items'])\n",
    "audio_hip = pd.DataFrame(json_normalize(sp2.audio_features(tracks=hip_songs['track.uri'].tolist())))\n",
    "\n",
    "# merge audio features dataframe with song information dataframe\n",
    "songs_with_audio_hip = hip_songs.merge(audio_hip,how='left',left_on='track.uri',right_on='uri')\n"
   ]
  },
  {
   "cell_type": "code",
   "execution_count": 27,
   "metadata": {},
   "outputs": [],
   "source": [
    "# get all of the track info for each track in the Christmas Classics playlist\n",
    "christmas_songs = json_normalize(sp2.user_playlist_tracks(username, playlist_id=christmas['id'].tolist()[0], fields=None, \n",
    "                                                          limit=100, offset=0, market=None)['items'])\n",
    "audio_christmas = pd.DataFrame(json_normalize(sp2.audio_features(tracks=christmas_songs['track.uri'].tolist())))\n",
    "\n",
    "# merge audio features dataframe with song information dataframe\n",
    "songs_with_audio_christmas = christmas_songs.merge(audio_christmas,how='left',left_on='track.uri',right_on='uri')\n"
   ]
  },
  {
   "cell_type": "code",
   "execution_count": 28,
   "metadata": {},
   "outputs": [],
   "source": [
    "# get all of the track info for each track in the RapCaviar playlist\n",
    "rap_songs = json_normalize(sp2.user_playlist_tracks(username, playlist_id=rap['id'].tolist()[0], fields=None, \n",
    "                                                    limit=100, offset=0, market=None)['items'])\n",
    "audio_rap = pd.DataFrame(json_normalize(sp2.audio_features(tracks=rap_songs[~rap_songs[\"track.uri\"].str.contains('episode')]['track.uri'].tolist())))\n",
    "\n",
    "# merge audio features dataframe with song information dataframe\n",
    "songs_with_audio_rap = rap_songs.merge(audio_rap,how='left',left_on='track.uri',right_on='uri')\n"
   ]
  },
  {
   "cell_type": "markdown",
   "metadata": {},
   "source": [
    "# Color of Music Visualization\n",
    "\n",
    "This section creates the color of music grid visualization for each playlist we previously scraped. The grid size is based on the amount of songs in the playlist (i.e. if there are 100 songs in the playlist, the visualization will show a 10x10 grid). The color of each cell in the grid represents one song within the playlist. Since Spotify records audio features on a scale of 0-1, we can correspond each feature to a red, green, or blue value (RGB) to create a unique color based on the desired features. In this case, we decided to correspond acousticness, energy, and danceability to red, green, and blue respectively. We picked these three features specifically because they are the three in which our music tastes differed the most. However, there are various other audio features that you can pick from for this visualization. \n"
   ]
  },
  {
   "cell_type": "code",
   "execution_count": 31,
   "metadata": {},
   "outputs": [],
   "source": [
    "# format the songs into a list of lists of the appropriate length for the visualization\n",
    "# this helps format the songs for a nice grid visualization, with each cell as a song\n",
    "# multiplying the rows and columns should give you the total songs in the playlist\n",
    "def format_correctly(feature:list,row:int,col:int):\n",
    "    n_start = 0\n",
    "    n_end = col\n",
    "    new_list = []\n",
    "    for _ in range(row):\n",
    "        a_list = feature[n_start:n_end]\n",
    "        new_list.append(a_list)\n",
    "        n_start += col\n",
    "        n_end += col\n",
    "    return new_list"
   ]
  },
  {
   "cell_type": "code",
   "execution_count": 32,
   "metadata": {},
   "outputs": [
    {
     "data": {
      "image/png": "[encoded data removed]",
      "text/plain": [
       "<Figure size 432x288 with 1 Axes>"
      ]
     },
     "metadata": {
      "needs_background": "light"
     },
     "output_type": "display_data"
    }
   ],
   "source": [
    "# create color of rock playlist\n",
    "formatted_features = [format_correctly(songs_with_audio_rock['acousticness'].tolist(),10,10),\n",
    "                      format_correctly(songs_with_audio_rock['energy'].tolist(),10,10),\n",
    "                      format_correctly(songs_with_audio_rock['danceability'].tolist(),10,10)]\n",
    "\n",
    "ny, nx = 10, 10\n",
    "r, g, b = formatted_features\n",
    "plt.rcParams[\"axes.grid\"] = False\n",
    "\n",
    "c = np.dstack([r,g,b])\n",
    "\n",
    "plt.imshow(c, interpolation='nearest')\n",
    "plt.show()\n"
   ]
  },
  {
   "cell_type": "code",
   "execution_count": 33,
   "metadata": {},
   "outputs": [
    {
     "data": {
      "image/png": "[encoded data removed]",
      "text/plain": [
       "<Figure size 432x288 with 1 Axes>"
      ]
     },
     "metadata": {
      "needs_background": "light"
     },
     "output_type": "display_data"
    }
   ],
   "source": [
    "# create color of top hits playlist\n",
    "formatted_features = [format_correctly(songs_with_audio_hits['acousticness'].tolist(),5,10),\n",
    "                      format_correctly(songs_with_audio_hits['energy'].tolist(),5,10),\n",
    "                      format_correctly(songs_with_audio_hits['danceability'].tolist(),5,10)]\n",
    "\n",
    "ny, nx = 5, 10\n",
    "r, g, b = formatted_features\n",
    "plt.rcParams[\"axes.grid\"] = False\n",
    "\n",
    "c = np.dstack([r,g,b])\n",
    "\n",
    "plt.imshow(c, interpolation='nearest')\n",
    "plt.show()"
   ]
  },
  {
   "cell_type": "code",
   "execution_count": 34,
   "metadata": {},
   "outputs": [
    {
     "data": {
      "image/png": "[encoded data removed]",
      "text/plain": [
       "<Figure size 432x288 with 1 Axes>"
      ]
     },
     "metadata": {
      "needs_background": "light"
     },
     "output_type": "display_data"
    }
   ],
   "source": [
    "# create color of folk playlist\n",
    "formatted_features = [format_correctly(songs_with_audio_folk['acousticness'].tolist(),10,10),\n",
    "                      format_correctly(songs_with_audio_folk['energy'].tolist(),10,10),\n",
    "                      format_correctly(songs_with_audio_folk['danceability'].tolist(),10,10)]\n",
    "\n",
    "ny, nx = 10, 10\n",
    "r, g, b = formatted_features\n",
    "plt.rcParams[\"axes.grid\"] = False\n",
    "\n",
    "c = np.dstack([r,g,b])\n",
    "\n",
    "plt.imshow(c, interpolation='nearest')\n",
    "plt.show()"
   ]
  },
  {
   "cell_type": "code",
   "execution_count": 35,
   "metadata": {},
   "outputs": [
    {
     "data": {
      "image/png": "[encoded data removed]",
      "text/plain": [
       "<Figure size 432x288 with 1 Axes>"
      ]
     },
     "metadata": {
      "needs_background": "light"
     },
     "output_type": "display_data"
    }
   ],
   "source": [
    "# create color of country playlist\n",
    "formatted_features = [format_correctly(songs_with_audio_country['acousticness'].tolist(),6,10),\n",
    "                      format_correctly(songs_with_audio_country['energy'].tolist(),6,10),\n",
    "                      format_correctly(songs_with_audio_country['danceability'].tolist(),6,10)]\n",
    "\n",
    "ny, nx = 6, 10\n",
    "r, g, b = formatted_features\n",
    "plt.rcParams[\"axes.grid\"] = False\n",
    "\n",
    "c = np.dstack([r,g,b])\n",
    "\n",
    "plt.imshow(c, interpolation='nearest')\n",
    "plt.show()"
   ]
  },
  {
   "cell_type": "code",
   "execution_count": 36,
   "metadata": {},
   "outputs": [
    {
     "data": {
      "image/png": "[encoded data removed]",
      "text/plain": [
       "<Figure size 432x288 with 1 Axes>"
      ]
     },
     "metadata": {
      "needs_background": "light"
     },
     "output_type": "display_data"
    }
   ],
   "source": [
    "# create color of hip hop playlist\n",
    "formatted_features = [format_correctly(songs_with_audio_hip['acousticness'].tolist(),6,8),\n",
    "format_correctly(songs_with_audio_hip['energy'].tolist(),6,8),\n",
    "format_correctly(songs_with_audio_hip['danceability'].tolist(),6,8)]\n",
    "\n",
    "ny, nx = 6, 8\n",
    "r, g, b = formatted_features\n",
    "plt.rcParams[\"axes.grid\"] = False\n",
    "\n",
    "c = np.dstack([r,g,b])\n",
    "\n",
    "plt.imshow(c, interpolation='nearest')\n",
    "plt.show()"
   ]
  },
  {
   "cell_type": "code",
   "execution_count": 37,
   "metadata": {},
   "outputs": [
    {
     "data": {
      "image/png": "[encoded data removed]",
      "text/plain": [
       "<Figure size 432x288 with 1 Axes>"
      ]
     },
     "metadata": {
      "needs_background": "light"
     },
     "output_type": "display_data"
    }
   ],
   "source": [
    "# create color of Christmas playlist\n",
    "formatted_features = [format_correctly(songs_with_audio_christmas['acousticness'].tolist(),6,10),\n",
    "                      format_correctly(songs_with_audio_christmas['energy'].tolist(),6,10),\n",
    "                      format_correctly(songs_with_audio_christmas['danceability'].tolist(),6,10)]\n",
    "\n",
    "ny, nx = 6, 10\n",
    "r, g, b = formatted_features\n",
    "plt.rcParams[\"axes.grid\"] = False\n",
    "\n",
    "c = np.dstack([r,g,b])\n",
    "\n",
    "plt.imshow(c, interpolation='nearest')\n",
    "plt.show()"
   ]
  },
  {
   "cell_type": "code",
   "execution_count": 39,
   "metadata": {},
   "outputs": [
    {
     "data": {
      "image/png": "[encoded data removed]",
      "text/plain": [
       "<Figure size 432x288 with 1 Axes>"
      ]
     },
     "metadata": {
      "needs_background": "light"
     },
     "output_type": "display_data"
    }
   ],
   "source": [
    "# create color of rap playlist\n",
    "formatted_features = [format_correctly(songs_with_audio_rap['acousticness'].tolist(),5,10),\n",
    "                      format_correctly(songs_with_audio_rap['energy'].tolist(),5,10),\n",
    "                      format_correctly(songs_with_audio_rap['danceability'].tolist(),5,10)]\n",
    "\n",
    "ny, nx = 5,10\n",
    "r, g, b = formatted_features\n",
    "plt.rcParams[\"axes.grid\"] = False\n",
    "\n",
    "c = np.dstack([r,g,b])\n",
    "\n",
    "plt.imshow(c, interpolation='nearest')\n",
    "plt.show()"
   ]
  },
  {
   "cell_type": "code",
   "execution_count": null,
   "metadata": {},
   "outputs": [],
   "source": []
  }
 ],
 "metadata": {
  "kernelspec": {
   "display_name": "Python 3",
   "language": "python",
   "name": "python3"
  },
  "language_info": {
   "codemirror_mode": {
    "name": "ipython",
    "version": 3
   },
   "file_extension": ".py",
   "mimetype": "text/x-python",
   "name": "python",
   "nbconvert_exporter": "python",
   "pygments_lexer": "ipython3",
   "version": "3.7.3"
  }
 },
 "nbformat": 4,
 "nbformat_minor": 2
}
