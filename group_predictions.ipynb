{
 "cells": [
  {
   "cell_type": "markdown",
   "metadata": {},
   "source": [
    "# Combine all predictions\n",
    "\n",
    "After each person has run the Spotify_Model.ipynb to get the predictions of which songs from the 2017 playlist they are predicted to like, we can merge all of the data to build the final playlist.\n",
    "\n",
    "Again, make sure their data is stored in the same source location as this notebook."
   ]
  },
  {
   "cell_type": "code",
   "execution_count": null,
   "metadata": {},
   "outputs": [],
   "source": [
    "# Import data\n",
    "name1_test = pd.read_csv('name1_predictions.csv')\n",
    "name2_test = pd.read_csv('name2_predictions.csv')\n",
    "name3_test = pd.read_csv('name3_predictions.csv')"
   ]
  },
  {
   "cell_type": "code",
   "execution_count": null,
   "metadata": {},
   "outputs": [],
   "source": [
    "# Just take the column that identifies each songs and TARGET column \n",
    "# from friends' files to merge into one file\n",
    "name1_likes = name1_test[['track.uri','TARGET']]\n",
    "name2_likes = name2_test[['track.uri','TARGET']]\n",
    "name3_likes = name3_test[['track.uri','TARGET']]\n",
    "all_predictions = name1_test.merge(name2_likes, how = 'inner', on = 'track.uri')\n",
    "all_predictions = all_predictions.merge(name3_likes, how = 'inner', on = 'track.uri')"
   ]
  },
  {
   "cell_type": "code",
   "execution_count": null,
   "metadata": {},
   "outputs": [],
   "source": [
    "all_predictions.to_csv('all_predictions.csv')"
   ]
  },
  {
   "cell_type": "markdown",
   "metadata": {},
   "source": [
    "In the above file, TARGET_x shows whether or not name1 is predicted to like a song.\n",
    "TARGET_y shows whether or not name2 is predicted to like a song.\n",
    "And TARGET shows whether or not name3 is predicted to like a song."
   ]
  },
  {
   "cell_type": "code",
   "execution_count": null,
   "metadata": {},
   "outputs": [],
   "source": [
    "# a = songs name1 likes\n",
    "a = all_predictions[all_predictions['TARGET_x'] != 0]\n",
    "# b = songs name1 and name2 like\n",
    "b = a[a['TARGET_y'] != 0]\n",
    "# c = songs everyone likes, AKA the Final Playlist\n",
    "c = b[b['TARGET'] != 0]"
   ]
  },
  {
   "cell_type": "code",
   "execution_count": null,
   "metadata": {},
   "outputs": [],
   "source": [
    "# Export the final playlist to a csv\n",
    "c.to_csv('final_playlist.csv')"
   ]
  }
 ],
 "metadata": {
  "kernelspec": {
   "display_name": "Python 3",
   "language": "python",
   "name": "python3"
  },
  "language_info": {
   "codemirror_mode": {
    "name": "ipython",
    "version": 3
   },
   "file_extension": ".py",
   "mimetype": "text/x-python",
   "name": "python",
   "nbconvert_exporter": "python",
   "pygments_lexer": "ipython3",
   "version": "3.7.3"
  }
 },
 "nbformat": 4,
 "nbformat_minor": 2
}
